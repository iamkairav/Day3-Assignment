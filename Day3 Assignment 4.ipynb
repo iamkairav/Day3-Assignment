{
  "nbformat": 4,
  "nbformat_minor": 0,
  "metadata": {
    "colab": {
      "name": "letusupgrade-python.ipynb",
      "provenance": []
    },
    "kernelspec": {
      "name": "python3",
      "display_name": "Python 3"
    }
  },
  "cells": [
    {
      "cell_type": "code",
      "metadata": {
        "colab": {
          "base_uri": "https://localhost:8080/"
        },
        "id": "uYGjUd0-nRMf",
        "outputId": "461c354c-d0b1-42db-9137-cc07edf77390"
      },
      "source": [
        "x = int(input(\"Enter Your Value: \"))\r\n",
        "a = 2\r\n",
        "while x >=1:\r\n",
        "  if a/2 ==1 or a/3 ==1 or a/5== 1:\r\n",
        "    print(a)\r\n",
        "    x=x-1\r\n",
        "    a=a+1\r\n",
        "  elif a%2 == 0 or a%3==0 or a%5==0:\r\n",
        "    a=a+1\r\n",
        "    continue\r\n",
        "  else:\r\n",
        "     print(a)\r\n",
        "     x=x-1\r\n",
        "     a=a+1\r\n",
        "\r\n",
        "    \r\n",
        "\r\n"
      ],
      "execution_count": 13,
      "outputs": [
        {
          "output_type": "stream",
          "text": [
            "Enter Your Value: 40\n",
            "2\n",
            "3\n",
            "5\n",
            "7\n",
            "11\n",
            "13\n",
            "17\n",
            "19\n",
            "23\n",
            "29\n",
            "31\n",
            "37\n",
            "41\n",
            "43\n",
            "47\n",
            "49\n",
            "53\n",
            "59\n",
            "61\n",
            "67\n",
            "71\n",
            "73\n",
            "77\n",
            "79\n",
            "83\n",
            "89\n",
            "91\n",
            "97\n",
            "101\n",
            "103\n",
            "107\n",
            "109\n",
            "113\n",
            "119\n",
            "121\n",
            "127\n",
            "131\n",
            "133\n",
            "137\n",
            "139\n"
          ],
          "name": "stdout"
        }
      ]
    },
    {
      "cell_type": "code",
      "metadata": {
        "id": "1MhnW3VtELDF"
      },
      "source": [
        ""
      ],
      "execution_count": null,
      "outputs": []
    }
  ]
}