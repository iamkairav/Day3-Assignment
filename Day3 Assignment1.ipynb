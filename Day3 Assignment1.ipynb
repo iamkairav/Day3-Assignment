{
  "nbformat": 4,
  "nbformat_minor": 0,
  "metadata": {
    "colab": {
      "name": "letusupgrade-python.ipynb",
      "provenance": []
    },
    "kernelspec": {
      "name": "python3",
      "display_name": "Python 3"
    }
  },
  "cells": [
    {
      "cell_type": "code",
      "metadata": {
        "colab": {
          "base_uri": "https://localhost:8080/"
        },
        "id": "uYGjUd0-nRMf",
        "outputId": "c0ab9311-d8f2-4660-d3eb-276794044ab6"
      },
      "source": [
        "marks = 54\r\n",
        "if marks < 40:\r\n",
        "  print(\"Grade E - Failed\")\r\n",
        "elif marks >= 40 and marks <= 55:\r\n",
        "  print(\"Grade D - Average\")\r\n",
        "elif marks >= 55 and marks <= 75:\r\n",
        "  print(\"Grade C - Good\")\r\n",
        "elif marks >= 75 and marks <= 85:\r\n",
        "  print(\"Grade B - Excellent\")\r\n",
        "else:\r\n",
        "  print(\"Grade A - Outstanding\")\r\n",
        "\r\n"
      ],
      "execution_count": 22,
      "outputs": [
        {
          "output_type": "stream",
          "text": [
            "Grade D - Average\n"
          ],
          "name": "stdout"
        }
      ]
    }
  ]
}